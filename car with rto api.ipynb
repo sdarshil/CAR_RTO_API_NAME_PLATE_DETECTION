{
 "cells": [
  {
   "cell_type": "code",
   "execution_count": 1,
   "id": "recognized-mechanism",
   "metadata": {},
   "outputs": [],
   "source": [
    "import numpy as np\n",
    "import cv2\n",
    "import pandas as pd\n"
   ]
  },
  {
   "cell_type": "code",
   "execution_count": 5,
   "id": "little-alarm",
   "metadata": {},
   "outputs": [],
   "source": [
    "def extract_plate(img): # the function detects and perfors blurring on the number plate.\n",
    "\tplate_img = img.copy()\n",
    "\t\n",
    "\t#Loads the data required for detecting the license plates from cascade classifier.\n",
    "\tplate_cascade = cv2.CascadeClassifier('india_car.xml')\n",
    "\n",
    "\t# detects numberplates and returns the coordinates and dimensions of detected license plate's contours.\n",
    "\tplate_rect = plate_cascade.detectMultiScale(plate_img, scaleFactor = 1.3, minNeighbors = 7)\n",
    "\n",
    "\tfor (x,y,w,h) in plate_rect:\n",
    "\t\ta,b = (int(0.02*img.shape[0]), int(0.025*img.shape[1])) #parameter tuning\n",
    "\t\tplate = plate_img[y+a:y+h-a, x+b:x+w-b, :]\n",
    "\t\t# finally representing the detected contours by drawing rectangles around the edges.\n",
    "#\n",
    "        \n",
    "\treturn plate_img, plate # returning the processed image."
   ]
  },
  {
   "cell_type": "code",
   "execution_count": 6,
   "id": "unauthorized-ceramic",
   "metadata": {},
   "outputs": [],
   "source": [
    "image = cv2.imread('car.jpg')"
   ]
  },
  {
   "cell_type": "code",
   "execution_count": 7,
   "id": "natural-clear",
   "metadata": {},
   "outputs": [],
   "source": [
    "plate_img, plate = extract_plate(image)"
   ]
  },
  {
   "cell_type": "code",
   "execution_count": 13,
   "id": "pleased-luther",
   "metadata": {},
   "outputs": [
    {
     "data": {
      "text/plain": [
       "<function destroyAllWindows>"
      ]
     },
     "execution_count": 13,
     "metadata": {},
     "output_type": "execute_result"
    }
   ],
   "source": [
    "cv2.imshow('bl', plate)\n",
    "cv2.waitKey()\n",
    "cv2.destroyAllWindows"
   ]
  },
  {
   "cell_type": "code",
   "execution_count": 9,
   "id": "published-extension",
   "metadata": {},
   "outputs": [],
   "source": [
    "import easyocr"
   ]
  },
  {
   "cell_type": "code",
   "execution_count": 14,
   "id": "fewer-tactics",
   "metadata": {},
   "outputs": [
    {
     "name": "stderr",
     "output_type": "stream",
     "text": [
      "CUDA not available - defaulting to CPU. Note: This module is much faster with a GPU.\n"
     ]
    }
   ],
   "source": [
    "reader = easyocr.Reader(['en'])\n",
    "result = reader.readtext(plate)"
   ]
  },
  {
   "cell_type": "code",
   "execution_count": 17,
   "id": "political-third",
   "metadata": {},
   "outputs": [],
   "source": [
    "plate_number = result[0][-2]\n",
    "plate_number = plate_number.replace(' ' ,'') \n",
    "plate_number = ''.join(char for char in plate_number if char.isalnum())"
   ]
  },
  {
   "cell_type": "code",
   "execution_count": 18,
   "id": "mature-break",
   "metadata": {},
   "outputs": [
    {
     "data": {
      "text/plain": [
       "'MH20EE7598'"
      ]
     },
     "execution_count": 18,
     "metadata": {},
     "output_type": "execute_result"
    }
   ],
   "source": [
    "plate_number"
   ]
  },
  {
   "cell_type": "code",
   "execution_count": 19,
   "id": "twelve-victor",
   "metadata": {},
   "outputs": [],
   "source": [
    "import requests\n",
    "import xmltodict\n",
    "import json\n",
    "def get_info(plate_number):\n",
    "    r = requests.get(\n",
    "    \"https://www.regcheck.org.uk/api/reg.asmx/CheckIndia?RegistrationNumber={0}&username=sdarshil90\".format(str(plate_number)))\n",
    "    data= xmltodict.parse(r.content)\n",
    "    jdata = json.dumps(data)\n",
    "    df = json.loads(jdata)\n",
    "    df1 = json.loads(df['Vehicle']['vehicleJson'])\n",
    "    return df1\n",
    "    "
   ]
  },
  {
   "cell_type": "code",
   "execution_count": 20,
   "id": "needed-relations",
   "metadata": {},
   "outputs": [
    {
     "data": {
      "text/plain": [
       "{'Description': 'SKODA OCTAVIA STYLE PLUS 2.0 TDI CR AT',\n",
       " 'RegistrationYear': '2017',\n",
       " 'CarMake': {'CurrentTextValue': 'SKODA'},\n",
       " 'CarModel': {'CurrentTextValue': 'OCTAVIA'},\n",
       " 'EngineSize': {'CurrentTextValue': '1968'},\n",
       " 'MakeDescription': {'CurrentTextValue': 'SKODA'},\n",
       " 'ModelDescription': {'CurrentTextValue': 'OCTAVIA'},\n",
       " 'VechileIdentificationNumber': 'TMBBJCNE6HA006323',\n",
       " 'NumberOfSeats': {'CurrentTextValue': '5'},\n",
       " 'Colour': '',\n",
       " 'EngineNumber': 'CRV125813',\n",
       " 'FuelType': {'CurrentTextValue': 'Diesel'},\n",
       " 'RegistrationDate': '19-MAY-17',\n",
       " 'Location': 'RTO,AURANGABAD',\n",
       " 'ImageUrl': 'http://in.carregistrationapi.com/image.aspx/@U0tPREEgT0NUQVZJQSBTVFlMRSBQTFVTIDIuMCBUREkgQ1IgQVQ='}"
      ]
     },
     "execution_count": 20,
     "metadata": {},
     "output_type": "execute_result"
    }
   ],
   "source": [
    "get_info(plate_number)"
   ]
  },
  {
   "cell_type": "code",
   "execution_count": null,
   "id": "consecutive-greene",
   "metadata": {},
   "outputs": [],
   "source": [
    "r = requests.get(\n",
    "    \"https://www.regcheck.org.uk/api/reg.asmx/CheckIndia?RegistrationNumber={0}&username=sdarshil90\".format(str(plate_number)))"
   ]
  },
  {
   "cell_type": "code",
   "execution_count": null,
   "id": "bottom-litigation",
   "metadata": {},
   "outputs": [],
   "source": [
    "r.content"
   ]
  },
  {
   "cell_type": "code",
   "execution_count": null,
   "id": "small-reporter",
   "metadata": {},
   "outputs": [],
   "source": []
  },
  {
   "cell_type": "code",
   "execution_count": null,
   "id": "requested-advance",
   "metadata": {},
   "outputs": [],
   "source": []
  },
  {
   "cell_type": "code",
   "execution_count": null,
   "id": "quality-worthy",
   "metadata": {},
   "outputs": [],
   "source": []
  },
  {
   "cell_type": "code",
   "execution_count": null,
   "id": "graphic-america",
   "metadata": {},
   "outputs": [],
   "source": []
  },
  {
   "cell_type": "code",
   "execution_count": null,
   "id": "strong-blast",
   "metadata": {},
   "outputs": [],
   "source": []
  },
  {
   "cell_type": "code",
   "execution_count": null,
   "id": "existing-converter",
   "metadata": {},
   "outputs": [],
   "source": []
  },
  {
   "cell_type": "code",
   "execution_count": null,
   "id": "handed-kelly",
   "metadata": {},
   "outputs": [],
   "source": []
  },
  {
   "cell_type": "code",
   "execution_count": null,
   "id": "occasional-population",
   "metadata": {},
   "outputs": [],
   "source": []
  }
 ],
 "metadata": {
  "kernelspec": {
   "display_name": "Python 3",
   "language": "python",
   "name": "python3"
  },
  "language_info": {
   "codemirror_mode": {
    "name": "ipython",
    "version": 3
   },
   "file_extension": ".py",
   "mimetype": "text/x-python",
   "name": "python",
   "nbconvert_exporter": "python",
   "pygments_lexer": "ipython3",
   "version": "3.8.8"
  }
 },
 "nbformat": 4,
 "nbformat_minor": 5
}
